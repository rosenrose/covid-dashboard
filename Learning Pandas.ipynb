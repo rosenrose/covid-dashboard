{
 "cells": [
  {
   "cell_type": "code",
   "execution_count": 35,
   "id": "08f0af5a",
   "metadata": {},
   "outputs": [
    {
     "data": {
      "text/plain": [
       "Confirmed    116545417\n",
       "Deaths         2657833\n",
       "Recovered     65609539\n",
       "dtype: int64"
      ]
     },
     "execution_count": 35,
     "metadata": {},
     "output_type": "execute_result"
    }
   ],
   "source": [
    "import pandas as pd\n",
    "\n",
    "daily_dataframe = pd.read_csv(\"data/daily_report_2021-03-06.csv\")\n",
    "daily_dataframe = daily_dataframe[[\"Confirmed\", \"Deaths\", \"Recovered\"]].sum()\n",
    "daily_dataframe"
   ]
  }
 ],
 "metadata": {
  "kernelspec": {
   "display_name": "Python 3 (ipykernel)",
   "language": "python",
   "name": "python3"
  },
  "language_info": {
   "codemirror_mode": {
    "name": "ipython",
    "version": 3
   },
   "file_extension": ".py",
   "mimetype": "text/x-python",
   "name": "python",
   "nbconvert_exporter": "python",
   "pygments_lexer": "ipython3",
   "version": "3.9.7"
  }
 },
 "nbformat": 4,
 "nbformat_minor": 5
}
