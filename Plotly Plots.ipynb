{
 "cells": [
  {
   "cell_type": "code",
   "execution_count": 16,
   "id": "3059b7d7",
   "metadata": {},
   "outputs": [
    {
     "data": {
      "text/plain": [
       "array(['Confirmed', 'Deaths', 'Recovered'], dtype=object)"
      ]
     },
     "execution_count": 16,
     "metadata": {},
     "output_type": "execute_result"
    }
   ],
   "source": [
    "import plotly.express as px\n",
    "from data import totals_df\n",
    "\n",
    "fig = px.bar(totals_df,\n",
    "             title=\"Total Global Cases\",\n",
    "             x=\"condition\",\n",
    "             y=\"count\",\n",
    "             hover_data={\n",
    "                 \"count\": \":,\",\n",
    "                 \"condition\": False\n",
    "             },\n",
    "             template=\"plotly_dark\")\n",
    "fig.update_layout(xaxis={\"title\": \"Condition\"}, yaxis={\"title\": \"Cases\"})\n",
    "totals_df[\"condition\"].values"
   ]
  },
  {
   "cell_type": "code",
   "execution_count": null,
   "id": "d90d000d",
   "metadata": {},
   "outputs": [],
   "source": [
    "import plotly.express as px\n",
    "from data import countries_df\n",
    "\n",
    "projections = ['equirectangular', 'mercator', 'orthographic', 'natural earth', 'kavrayskiy7', 'miller', 'robinson', 'eckert4', 'azimuthal equal area', 'azimuthal equidistant', 'conic equal area', 'conic conformal', 'conic equidistant', 'gnomonic', 'stereographic', 'mollweide', 'hammer', 'transverse mercator', 'albers usa', 'winkel tripel', 'aitoff', 'sinusoidal']\n",
    "for projection in projections:\n",
    "    fig = px.scatter_geo(countries_df,\n",
    "                         locations=\"Country_Region\",\n",
    "                         locationmode=\"country names\",\n",
    "                         color=\"Confirmed\",\n",
    "                         hover_name=\"Country_Region\",\n",
    "                         hover_data={\n",
    "                             \"Confirmed\": \":,\",\n",
    "                             \"Deaths\": \":,\",\n",
    "                             \"Recovered\": \":,\",\n",
    "                             \"Country_Region\": False\n",
    "                         },\n",
    "                         size=\"Confirmed\",\n",
    "                         size_max=40,\n",
    "                         projection=projection,\n",
    "#                          template=\"plotly_dark\",\n",
    "                         title=projection\n",
    "                        )\n",
    "    fig.show()"
   ]
  }
 ],
 "metadata": {
  "kernelspec": {
   "display_name": "Python 3 (ipykernel)",
   "language": "python",
   "name": "python3"
  },
  "language_info": {
   "codemirror_mode": {
    "name": "ipython",
    "version": 3
   },
   "file_extension": ".py",
   "mimetype": "text/x-python",
   "name": "python",
   "nbconvert_exporter": "python",
   "pygments_lexer": "ipython3",
   "version": "3.9.7"
  }
 },
 "nbformat": 4,
 "nbformat_minor": 5
}
