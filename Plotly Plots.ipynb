{
 "cells": [
  {
   "cell_type": "code",
   "execution_count": 33,
   "id": "3059b7d7",
   "metadata": {},
   "outputs": [
    {
     "data": {
      "application/vnd.plotly.v1+json": {
       "config": {
        "plotlyServerURL": "https://plot.ly"
       },
       "data": [
        {
         "customdata": [
          [
           80732932,
           989331,
           0,
           "US"
          ],
          [
           43047594,
           522006,
           0,
           "India"
          ],
          [
           30275219,
           662396,
           0,
           "Brazil"
          ],
          [
           28006219,
           145424,
           0,
           "France"
          ],
          [
           23658211,
           133308,
           0,
           "Germany"
          ],
          [
           22033383,
           172498,
           0,
           "United Kingdom"
          ],
          [
           17829009,
           366436,
           0,
           "Russia"
          ],
          [
           16583220,
           21520,
           0,
           "Korea, South"
          ],
          [
           15758002,
           161893,
           0,
           "Italy"
          ],
          [
           15003696,
           98610,
           0,
           "Turkey"
          ],
          [
           11736893,
           103104,
           0,
           "Spain"
          ],
          [
           10489319,
           42975,
           0,
           "Vietnam"
          ],
          [
           9060923,
           128344,
           0,
           "Argentina"
          ],
          [
           8206055,
           22791,
           0,
           "Netherlands"
          ],
          [
           7436434,
           29104,
           0,
           "Japan"
          ],
          [
           7210788,
           140877,
           0,
           "Iran"
          ],
          [
           6089998,
           139754,
           0,
           "Colombia"
          ],
          [
           6041269,
           155937,
           0,
           "Indonesia"
          ],
          [
           5985818,
           115838,
           0,
           "Poland"
          ],
          [
           5729270,
           323973,
           0,
           "Mexico"
          ],
          [
           5509592,
           6845,
           0,
           "Australia"
          ],
          [
           5040518,
           112459,
           0,
           "Ukraine"
          ],
          [
           4402234,
           35449,
           0,
           "Malaysia"
          ],
          [
           4084299,
           27263,
           0,
           "Thailand"
          ],
          [
           4064839,
           16439,
           0,
           "Austria"
          ],
          [
           4040937,
           10647,
           0,
           "Israel"
          ],
          [
           3998722,
           31262,
           0,
           "Belgium"
          ],
          [
           3886876,
           40022,
           0,
           "Czechia"
          ],
          [
           3745569,
           22088,
           0,
           "Portugal"
          ],
          [
           3743582,
           100195,
           0,
           "South Africa"
          ],
          [
           3683367,
           59982,
           0,
           "Philippines"
          ],
          [
           3655753,
           38445,
           0,
           "Canada"
          ],
          [
           3596855,
           13664,
           0,
           "Switzerland"
          ],
          [
           3557139,
           212676,
           0,
           "Peru"
          ],
          [
           3532649,
           57275,
           0,
           "Chile"
          ],
          [
           3252248,
           28701,
           0,
           "Greece"
          ],
          [
           3148266,
           6068,
           0,
           "Denmark"
          ],
          [
           2884114,
           65366,
           0,
           "Romania"
          ],
          [
           2509184,
           19773,
           0,
           "Slovakia"
          ],
          [
           2495996,
           18605,
           0,
           "Sweden"
          ],
          [
           2323508,
           25200,
           0,
           "Iraq"
          ],
          [
           1997855,
           15936,
           0,
           "Serbia"
          ],
          [
           1952412,
           29126,
           0,
           "Bangladesh"
          ],
          [
           1884458,
           45971,
           0,
           "Hungary"
          ],
          [
           1862513,
           13833,
           0,
           "China"
          ],
          [
           1695432,
           14059,
           0,
           "Jordan"
          ],
          [
           1653460,
           16794,
           0,
           "Georgia"
          ],
          [
           1527486,
           30368,
           0,
           "Pakistan"
          ],
          [
           1505568,
           6964,
           0,
           "Ireland"
          ],
          [
           1420750,
           2783,
           0,
           "Norway"
          ],
          [
           1394243,
           19013,
           0,
           "Kazakhstan"
          ],
          [
           1167498,
           1317,
           0,
           "Singapore"
          ],
          [
           1164467,
           16064,
           0,
           "Morocco"
          ],
          [
           1151011,
           36816,
           0,
           "Bulgaria"
          ],
          [
           1113663,
           15752,
           0,
           "Croatia"
          ],
          [
           1100312,
           8522,
           0,
           "Cuba"
          ],
          [
           1095811,
           10365,
           0,
           "Lebanon"
          ],
          [
           1050181,
           9027,
           0,
           "Lithuania"
          ],
          [
           1039532,
           28533,
           0,
           "Tunisia"
          ],
          [
           998247,
           6564,
           0,
           "Slovenia"
          ],
          [
           978684,
           11951,
           0,
           "Nepal"
          ],
          [
           974961,
           6908,
           0,
           "Belarus"
          ],
          [
           949583,
           3517,
           0,
           "Finland"
          ],
          [
           920240,
           2177,
           0,
           "Mongolia"
          ],
          [
           904029,
           21904,
           0,
           "Bolivia"
          ],
          [
           895892,
           2302,
           0,
           "United Arab Emirates"
          ],
          [
           895775,
           7197,
           0,
           "Uruguay"
          ],
          [
           866925,
           35528,
           0,
           "Ecuador"
          ],
          [
           854948,
           582,
           0,
           "New Zealand"
          ],
          [
           844892,
           8357,
           0,
           "Costa Rica"
          ],
          [
           838518,
           17445,
           0,
           "Guatemala"
          ],
          [
           813415,
           5716,
           0,
           "Latvia"
          ],
          [
           792391,
           9706,
           0,
           "Azerbaijan"
          ],
          [
           769457,
           8179,
           0,
           "Panama"
          ],
          [
           752848,
           9072,
           0,
           "Saudi Arabia"
          ],
          [
           662945,
           16497,
           0,
           "Sri Lanka"
          ],
          [
           656876,
           5657,
           0,
           "West Bank and Gaza"
          ],
          [
           648682,
           18786,
           0,
           "Paraguay"
          ],
          [
           631058,
           2555,
           0,
           "Kuwait"
          ],
          [
           612658,
           19434,
           0,
           "Burma"
          ],
          [
           578789,
           4375,
           0,
           "Dominican Republic"
          ],
          [
           568335,
           2525,
           0,
           "Estonia"
          ],
          [
           564176,
           1474,
           0,
           "Bahrain"
          ],
          [
           522055,
           5703,
           0,
           "Venezuela"
          ],
          [
           516587,
           11485,
           0,
           "Moldova"
          ],
          [
           515645,
           24613,
           0,
           "Egypt"
          ],
          [
           501862,
           6429,
           0,
           "Libya"
          ],
          [
           470305,
           7509,
           0,
           "Ethiopia"
          ],
          [
           465787,
           993,
           0,
           "Cyprus"
          ],
          [
           422784,
           8622,
           0,
           "Armenia"
          ],
          [
           422239,
           10892,
           0,
           "Honduras"
          ],
          [
           388922,
           4257,
           0,
           "Oman"
          ],
          [
           376526,
           15752,
           0,
           "Bosnia and Herzegovina"
          ],
          [
           363754,
           677,
           0,
           "Qatar"
          ],
          [
           323630,
           5649,
           0,
           "Kenya"
          ],
          [
           318640,
           3973,
           0,
           "Zambia"
          ],
          [
           308752,
           9263,
           0,
           "North Macedonia"
          ],
          [
           305859,
           2688,
           0,
           "Botswana"
          ],
          [
           274535,
           3496,
           0,
           "Albania"
          ],
          [
           265746,
           6874,
           0,
           "Algeria"
          ],
          [
           255670,
           3143,
           0,
           "Nigeria"
          ],
          [
           247297,
           5464,
           0,
           "Zimbabwe"
          ],
          [
           238321,
           1637,
           0,
           "Uzbekistan"
          ],
          [
           234336,
           2709,
           0,
           "Montenegro"
          ],
          [
           230991,
           1055,
           0,
           "Luxembourg"
          ],
          [
           227880,
           3138,
           0,
           "Kosovo"
          ],
          [
           225338,
           2201,
           0,
           "Mozambique"
          ],
          [
           218229,
           990,
           0,
           "Mauritius"
          ],
          [
           201460,
           727,
           0,
           "Laos"
          ],
          [
           200982,
           2991,
           0,
           "Kyrgyzstan"
          ],
          [
           183701,
           112,
           0,
           "Iceland"
          ],
          [
           178883,
           298,
           0,
           "Maldives"
          ],
          [
           178513,
           7680,
           0,
           "Afghanistan"
          ],
          [
           164058,
           3597,
           0,
           "Uganda"
          ],
          [
           162089,
           4126,
           0,
           "El Salvador"
          ],
          [
           161114,
           1445,
           0,
           "Ghana"
          ],
          [
           158112,
           4022,
           0,
           "Namibia"
          ],
          [
           142514,
           3806,
           0,
           "Trinidad and Tobago"
          ],
          [
           140364,
           218,
           0,
           "Brunei"
          ],
          [
           136090,
           3055,
           0,
           "Cambodia"
          ],
          [
           129769,
           1459,
           0,
           "Rwanda"
          ],
          [
           129312,
           2932,
           0,
           "Jamaica"
          ],
          [
           119780,
           1927,
           0,
           "Cameroon"
          ],
          [
           99287,
           1900,
           0,
           "Angola"
          ],
          [
           89310,
           677,
           0,
           "Malta"
          ],
          [
           87023,
           1337,
           0,
           "Congo (Kinshasa)"
          ],
          [
           85972,
           1965,
           0,
           "Senegal"
          ],
          [
           85728,
           2632,
           0,
           "Malawi"
          ],
          [
           81861,
           797,
           0,
           "Cote d'Ivoire"
          ],
          [
           79302,
           1327,
           0,
           "Suriname"
          ],
          [
           70107,
           1395,
           0,
           "Eswatini"
          ],
          [
           65096,
           386,
           0,
           "Barbados"
          ],
          [
           64513,
           862,
           0,
           "Fiji"
          ],
          [
           64121,
           1391,
           0,
           "Madagascar"
          ],
          [
           63380,
           1228,
           0,
           "Guyana"
          ],
          [
           62079,
           4929,
           0,
           "Sudan"
          ],
          [
           58683,
           982,
           0,
           "Mauritania"
          ],
          [
           57385,
           676,
           0,
           "Belize"
          ],
          [
           55993,
           401,
           0,
           "Cabo Verde"
          ],
          [
           55782,
           3150,
           0,
           "Syria"
          ],
          [
           54592,
           19,
           0,
           "Bhutan"
          ],
          [
           47594,
           303,
           0,
           "Gabon"
          ],
          [
           43663,
           649,
           0,
           "Papua New Guinea"
          ],
          [
           41660,
           164,
           0,
           "Seychelles"
          ],
          [
           40709,
           153,
           0,
           "Andorra"
          ],
          [
           38812,
           38,
           0,
           "Burundi"
          ],
          [
           37710,
           854,
           0,
           "Taiwan*"
          ],
          [
           36969,
           273,
           0,
           "Togo"
          ],
          [
           36540,
           441,
           0,
           "Guinea"
          ],
          [
           33864,
           803,
           0,
           "Tanzania"
          ],
          [
           33411,
           789,
           0,
           "Bahamas"
          ],
          [
           32968,
           697,
           0,
           "Lesotho"
          ],
          [
           30678,
           730,
           0,
           "Mali"
          ],
          [
           30615,
           835,
           0,
           "Haiti"
          ],
          [
           26952,
           163,
           0,
           "Benin"
          ],
          [
           26485,
           1361,
           0,
           "Somalia"
          ],
          [
           24079,
           385,
           0,
           "Congo (Brazzaville)"
          ],
          [
           23111,
           367,
           0,
           "Saint Lucia"
          ],
          [
           22853,
           130,
           0,
           "Timor-Leste"
          ],
          [
           20865,
           383,
           0,
           "Burkina Faso"
          ],
          [
           18491,
           232,
           0,
           "Nicaragua"
          ],
          [
           17786,
           125,
           0,
           "Tajikistan"
          ],
          [
           17410,
           138,
           0,
           "South Sudan"
          ],
          [
           17005,
           84,
           0,
           "Liechtenstein"
          ],
          [
           15981,
           114,
           0,
           "San Marino"
          ],
          [
           15907,
           183,
           0,
           "Equatorial Guinea"
          ],
          [
           15598,
           189,
           0,
           "Djibouti"
          ],
          [
           14649,
           113,
           0,
           "Central African Republic"
          ],
          [
           14165,
           219,
           0,
           "Grenada"
          ],
          [
           12437,
           139,
           0,
           "Solomon Islands"
          ],
          [
           11994,
           365,
           0,
           "Gambia"
          ],
          [
           11988,
           63,
           0,
           "Dominica"
          ],
          [
           11818,
           2148,
           0,
           "Yemen"
          ],
          [
           11480,
           56,
           0,
           "Monaco"
          ],
          [
           9733,
           103,
           0,
           "Eritrea"
          ],
          [
           9106,
           11,
           0,
           "Tonga"
          ],
          [
           8893,
           308,
           0,
           "Niger"
          ],
          [
           8352,
           106,
           0,
           "Saint Vincent and the Grenadines"
          ],
          [
           8182,
           171,
           0,
           "Guinea-Bissau"
          ],
          [
           8103,
           160,
           0,
           "Comoros"
          ],
          [
           7681,
           125,
           0,
           "Sierra Leone"
          ],
          [
           7539,
           135,
           0,
           "Antigua and Barbuda"
          ],
          [
           7432,
           294,
           0,
           "Liberia"
          ],
          [
           7396,
           193,
           0,
           "Chad"
          ],
          [
           6401,
           7,
           0,
           "Vanuatu"
          ],
          [
           6309,
           13,
           0,
           "Samoa"
          ],
          [
           5953,
           73,
           0,
           "Sao Tome and Principe"
          ],
          [
           5561,
           43,
           0,
           "Saint Kitts and Nevis"
          ],
          [
           4190,
           6,
           0,
           "Palau"
          ],
          [
           3076,
           13,
           0,
           "Kiribati"
          ],
          [
           865,
           0,
           0,
           "Summer Olympics 2020"
          ],
          [
           712,
           13,
           0,
           "Diamond Princess"
          ],
          [
           535,
           0,
           0,
           "Winter Olympics 2022"
          ],
          [
           29,
           0,
           0,
           "Holy See"
          ],
          [
           15,
           0,
           0,
           "Marshall Islands"
          ],
          [
           11,
           0,
           0,
           "Antarctica"
          ],
          [
           9,
           2,
           0,
           "MS Zaandam"
          ],
          [
           1,
           0,
           0,
           "Micronesia"
          ]
         ],
         "geo": "geo",
         "hovertemplate": "<b>%{hovertext}</b><br><br>Confirmed=%{marker.color:,}<br>Deaths=%{customdata[1]:,}<br>Recovered=%{customdata[2]:,}<extra></extra>",
         "hovertext": [
          "US",
          "India",
          "Brazil",
          "France",
          "Germany",
          "United Kingdom",
          "Russia",
          "Korea, South",
          "Italy",
          "Turkey",
          "Spain",
          "Vietnam",
          "Argentina",
          "Netherlands",
          "Japan",
          "Iran",
          "Colombia",
          "Indonesia",
          "Poland",
          "Mexico",
          "Australia",
          "Ukraine",
          "Malaysia",
          "Thailand",
          "Austria",
          "Israel",
          "Belgium",
          "Czechia",
          "Portugal",
          "South Africa",
          "Philippines",
          "Canada",
          "Switzerland",
          "Peru",
          "Chile",
          "Greece",
          "Denmark",
          "Romania",
          "Slovakia",
          "Sweden",
          "Iraq",
          "Serbia",
          "Bangladesh",
          "Hungary",
          "China",
          "Jordan",
          "Georgia",
          "Pakistan",
          "Ireland",
          "Norway",
          "Kazakhstan",
          "Singapore",
          "Morocco",
          "Bulgaria",
          "Croatia",
          "Cuba",
          "Lebanon",
          "Lithuania",
          "Tunisia",
          "Slovenia",
          "Nepal",
          "Belarus",
          "Finland",
          "Mongolia",
          "Bolivia",
          "United Arab Emirates",
          "Uruguay",
          "Ecuador",
          "New Zealand",
          "Costa Rica",
          "Guatemala",
          "Latvia",
          "Azerbaijan",
          "Panama",
          "Saudi Arabia",
          "Sri Lanka",
          "West Bank and Gaza",
          "Paraguay",
          "Kuwait",
          "Burma",
          "Dominican Republic",
          "Estonia",
          "Bahrain",
          "Venezuela",
          "Moldova",
          "Egypt",
          "Libya",
          "Ethiopia",
          "Cyprus",
          "Armenia",
          "Honduras",
          "Oman",
          "Bosnia and Herzegovina",
          "Qatar",
          "Kenya",
          "Zambia",
          "North Macedonia",
          "Botswana",
          "Albania",
          "Algeria",
          "Nigeria",
          "Zimbabwe",
          "Uzbekistan",
          "Montenegro",
          "Luxembourg",
          "Kosovo",
          "Mozambique",
          "Mauritius",
          "Laos",
          "Kyrgyzstan",
          "Iceland",
          "Maldives",
          "Afghanistan",
          "Uganda",
          "El Salvador",
          "Ghana",
          "Namibia",
          "Trinidad and Tobago",
          "Brunei",
          "Cambodia",
          "Rwanda",
          "Jamaica",
          "Cameroon",
          "Angola",
          "Malta",
          "Congo (Kinshasa)",
          "Senegal",
          "Malawi",
          "Cote d'Ivoire",
          "Suriname",
          "Eswatini",
          "Barbados",
          "Fiji",
          "Madagascar",
          "Guyana",
          "Sudan",
          "Mauritania",
          "Belize",
          "Cabo Verde",
          "Syria",
          "Bhutan",
          "Gabon",
          "Papua New Guinea",
          "Seychelles",
          "Andorra",
          "Burundi",
          "Taiwan*",
          "Togo",
          "Guinea",
          "Tanzania",
          "Bahamas",
          "Lesotho",
          "Mali",
          "Haiti",
          "Benin",
          "Somalia",
          "Congo (Brazzaville)",
          "Saint Lucia",
          "Timor-Leste",
          "Burkina Faso",
          "Nicaragua",
          "Tajikistan",
          "South Sudan",
          "Liechtenstein",
          "San Marino",
          "Equatorial Guinea",
          "Djibouti",
          "Central African Republic",
          "Grenada",
          "Solomon Islands",
          "Gambia",
          "Dominica",
          "Yemen",
          "Monaco",
          "Eritrea",
          "Tonga",
          "Niger",
          "Saint Vincent and the Grenadines",
          "Guinea-Bissau",
          "Comoros",
          "Sierra Leone",
          "Antigua and Barbuda",
          "Liberia",
          "Chad",
          "Vanuatu",
          "Samoa",
          "Sao Tome and Principe",
          "Saint Kitts and Nevis",
          "Palau",
          "Kiribati",
          "Summer Olympics 2020",
          "Diamond Princess",
          "Winter Olympics 2022",
          "Holy See",
          "Marshall Islands",
          "Antarctica",
          "MS Zaandam",
          "Micronesia"
         ],
         "legendgroup": "",
         "locationmode": "country names",
         "locations": [
          "US",
          "India",
          "Brazil",
          "France",
          "Germany",
          "United Kingdom",
          "Russia",
          "Korea, South",
          "Italy",
          "Turkey",
          "Spain",
          "Vietnam",
          "Argentina",
          "Netherlands",
          "Japan",
          "Iran",
          "Colombia",
          "Indonesia",
          "Poland",
          "Mexico",
          "Australia",
          "Ukraine",
          "Malaysia",
          "Thailand",
          "Austria",
          "Israel",
          "Belgium",
          "Czechia",
          "Portugal",
          "South Africa",
          "Philippines",
          "Canada",
          "Switzerland",
          "Peru",
          "Chile",
          "Greece",
          "Denmark",
          "Romania",
          "Slovakia",
          "Sweden",
          "Iraq",
          "Serbia",
          "Bangladesh",
          "Hungary",
          "China",
          "Jordan",
          "Georgia",
          "Pakistan",
          "Ireland",
          "Norway",
          "Kazakhstan",
          "Singapore",
          "Morocco",
          "Bulgaria",
          "Croatia",
          "Cuba",
          "Lebanon",
          "Lithuania",
          "Tunisia",
          "Slovenia",
          "Nepal",
          "Belarus",
          "Finland",
          "Mongolia",
          "Bolivia",
          "United Arab Emirates",
          "Uruguay",
          "Ecuador",
          "New Zealand",
          "Costa Rica",
          "Guatemala",
          "Latvia",
          "Azerbaijan",
          "Panama",
          "Saudi Arabia",
          "Sri Lanka",
          "West Bank and Gaza",
          "Paraguay",
          "Kuwait",
          "Burma",
          "Dominican Republic",
          "Estonia",
          "Bahrain",
          "Venezuela",
          "Moldova",
          "Egypt",
          "Libya",
          "Ethiopia",
          "Cyprus",
          "Armenia",
          "Honduras",
          "Oman",
          "Bosnia and Herzegovina",
          "Qatar",
          "Kenya",
          "Zambia",
          "North Macedonia",
          "Botswana",
          "Albania",
          "Algeria",
          "Nigeria",
          "Zimbabwe",
          "Uzbekistan",
          "Montenegro",
          "Luxembourg",
          "Kosovo",
          "Mozambique",
          "Mauritius",
          "Laos",
          "Kyrgyzstan",
          "Iceland",
          "Maldives",
          "Afghanistan",
          "Uganda",
          "El Salvador",
          "Ghana",
          "Namibia",
          "Trinidad and Tobago",
          "Brunei",
          "Cambodia",
          "Rwanda",
          "Jamaica",
          "Cameroon",
          "Angola",
          "Malta",
          "Congo (Kinshasa)",
          "Senegal",
          "Malawi",
          "Cote d'Ivoire",
          "Suriname",
          "Eswatini",
          "Barbados",
          "Fiji",
          "Madagascar",
          "Guyana",
          "Sudan",
          "Mauritania",
          "Belize",
          "Cabo Verde",
          "Syria",
          "Bhutan",
          "Gabon",
          "Papua New Guinea",
          "Seychelles",
          "Andorra",
          "Burundi",
          "Taiwan*",
          "Togo",
          "Guinea",
          "Tanzania",
          "Bahamas",
          "Lesotho",
          "Mali",
          "Haiti",
          "Benin",
          "Somalia",
          "Congo (Brazzaville)",
          "Saint Lucia",
          "Timor-Leste",
          "Burkina Faso",
          "Nicaragua",
          "Tajikistan",
          "South Sudan",
          "Liechtenstein",
          "San Marino",
          "Equatorial Guinea",
          "Djibouti",
          "Central African Republic",
          "Grenada",
          "Solomon Islands",
          "Gambia",
          "Dominica",
          "Yemen",
          "Monaco",
          "Eritrea",
          "Tonga",
          "Niger",
          "Saint Vincent and the Grenadines",
          "Guinea-Bissau",
          "Comoros",
          "Sierra Leone",
          "Antigua and Barbuda",
          "Liberia",
          "Chad",
          "Vanuatu",
          "Samoa",
          "Sao Tome and Principe",
          "Saint Kitts and Nevis",
          "Palau",
          "Kiribati",
          "Summer Olympics 2020",
          "Diamond Princess",
          "Winter Olympics 2022",
          "Holy See",
          "Marshall Islands",
          "Antarctica",
          "MS Zaandam",
          "Micronesia"
         ],
         "marker": {
          "color": [
           80732932,
           43047594,
           30275219,
           28006219,
           23658211,
           22033383,
           17829009,
           16583220,
           15758002,
           15003696,
           11736893,
           10489319,
           9060923,
           8206055,
           7436434,
           7210788,
           6089998,
           6041269,
           5985818,
           5729270,
           5509592,
           5040518,
           4402234,
           4084299,
           4064839,
           4040937,
           3998722,
           3886876,
           3745569,
           3743582,
           3683367,
           3655753,
           3596855,
           3557139,
           3532649,
           3252248,
           3148266,
           2884114,
           2509184,
           2495996,
           2323508,
           1997855,
           1952412,
           1884458,
           1862513,
           1695432,
           1653460,
           1527486,
           1505568,
           1420750,
           1394243,
           1167498,
           1164467,
           1151011,
           1113663,
           1100312,
           1095811,
           1050181,
           1039532,
           998247,
           978684,
           974961,
           949583,
           920240,
           904029,
           895892,
           895775,
           866925,
           854948,
           844892,
           838518,
           813415,
           792391,
           769457,
           752848,
           662945,
           656876,
           648682,
           631058,
           612658,
           578789,
           568335,
           564176,
           522055,
           516587,
           515645,
           501862,
           470305,
           465787,
           422784,
           422239,
           388922,
           376526,
           363754,
           323630,
           318640,
           308752,
           305859,
           274535,
           265746,
           255670,
           247297,
           238321,
           234336,
           230991,
           227880,
           225338,
           218229,
           201460,
           200982,
           183701,
           178883,
           178513,
           164058,
           162089,
           161114,
           158112,
           142514,
           140364,
           136090,
           129769,
           129312,
           119780,
           99287,
           89310,
           87023,
           85972,
           85728,
           81861,
           79302,
           70107,
           65096,
           64513,
           64121,
           63380,
           62079,
           58683,
           57385,
           55993,
           55782,
           54592,
           47594,
           43663,
           41660,
           40709,
           38812,
           37710,
           36969,
           36540,
           33864,
           33411,
           32968,
           30678,
           30615,
           26952,
           26485,
           24079,
           23111,
           22853,
           20865,
           18491,
           17786,
           17410,
           17005,
           15981,
           15907,
           15598,
           14649,
           14165,
           12437,
           11994,
           11988,
           11818,
           11480,
           9733,
           9106,
           8893,
           8352,
           8182,
           8103,
           7681,
           7539,
           7432,
           7396,
           6401,
           6309,
           5953,
           5561,
           4190,
           3076,
           865,
           712,
           535,
           29,
           15,
           11,
           9,
           1
          ],
          "coloraxis": "coloraxis",
          "size": [
           80732932,
           43047594,
           30275219,
           28006219,
           23658211,
           22033383,
           17829009,
           16583220,
           15758002,
           15003696,
           11736893,
           10489319,
           9060923,
           8206055,
           7436434,
           7210788,
           6089998,
           6041269,
           5985818,
           5729270,
           5509592,
           5040518,
           4402234,
           4084299,
           4064839,
           4040937,
           3998722,
           3886876,
           3745569,
           3743582,
           3683367,
           3655753,
           3596855,
           3557139,
           3532649,
           3252248,
           3148266,
           2884114,
           2509184,
           2495996,
           2323508,
           1997855,
           1952412,
           1884458,
           1862513,
           1695432,
           1653460,
           1527486,
           1505568,
           1420750,
           1394243,
           1167498,
           1164467,
           1151011,
           1113663,
           1100312,
           1095811,
           1050181,
           1039532,
           998247,
           978684,
           974961,
           949583,
           920240,
           904029,
           895892,
           895775,
           866925,
           854948,
           844892,
           838518,
           813415,
           792391,
           769457,
           752848,
           662945,
           656876,
           648682,
           631058,
           612658,
           578789,
           568335,
           564176,
           522055,
           516587,
           515645,
           501862,
           470305,
           465787,
           422784,
           422239,
           388922,
           376526,
           363754,
           323630,
           318640,
           308752,
           305859,
           274535,
           265746,
           255670,
           247297,
           238321,
           234336,
           230991,
           227880,
           225338,
           218229,
           201460,
           200982,
           183701,
           178883,
           178513,
           164058,
           162089,
           161114,
           158112,
           142514,
           140364,
           136090,
           129769,
           129312,
           119780,
           99287,
           89310,
           87023,
           85972,
           85728,
           81861,
           79302,
           70107,
           65096,
           64513,
           64121,
           63380,
           62079,
           58683,
           57385,
           55993,
           55782,
           54592,
           47594,
           43663,
           41660,
           40709,
           38812,
           37710,
           36969,
           36540,
           33864,
           33411,
           32968,
           30678,
           30615,
           26952,
           26485,
           24079,
           23111,
           22853,
           20865,
           18491,
           17786,
           17410,
           17005,
           15981,
           15907,
           15598,
           14649,
           14165,
           12437,
           11994,
           11988,
           11818,
           11480,
           9733,
           9106,
           8893,
           8352,
           8182,
           8103,
           7681,
           7539,
           7432,
           7396,
           6401,
           6309,
           5953,
           5561,
           4190,
           3076,
           865,
           712,
           535,
           29,
           15,
           11,
           9,
           1
          ],
          "sizemode": "area",
          "sizeref": 50458.0825,
          "symbol": "circle"
         },
         "mode": "markers",
         "name": "",
         "showlegend": false,
         "type": "scattergeo"
        }
       ],
       "layout": {
        "coloraxis": {
         "colorbar": {
          "title": {
           "text": "Confirmed"
          }
         },
         "colorscale": [
          [
           0,
           "#0d0887"
          ],
          [
           0.1111111111111111,
           "#46039f"
          ],
          [
           0.2222222222222222,
           "#7201a8"
          ],
          [
           0.3333333333333333,
           "#9c179e"
          ],
          [
           0.4444444444444444,
           "#bd3786"
          ],
          [
           0.5555555555555556,
           "#d8576b"
          ],
          [
           0.6666666666666666,
           "#ed7953"
          ],
          [
           0.7777777777777778,
           "#fb9f3a"
          ],
          [
           0.8888888888888888,
           "#fdca26"
          ],
          [
           1,
           "#f0f921"
          ]
         ]
        },
        "geo": {
         "center": {},
         "domain": {
          "x": [
           0,
           1
          ],
          "y": [
           0,
           1
          ]
         },
         "projection": {
          "type": "natural earth"
         }
        },
        "legend": {
         "itemsizing": "constant",
         "tracegroupgap": 0
        },
        "margin": {
         "t": 60
        },
        "template": {
         "data": {
          "bar": [
           {
            "error_x": {
             "color": "#f2f5fa"
            },
            "error_y": {
             "color": "#f2f5fa"
            },
            "marker": {
             "line": {
              "color": "rgb(17,17,17)",
              "width": 0.5
             },
             "pattern": {
              "fillmode": "overlay",
              "size": 10,
              "solidity": 0.2
             }
            },
            "type": "bar"
           }
          ],
          "barpolar": [
           {
            "marker": {
             "line": {
              "color": "rgb(17,17,17)",
              "width": 0.5
             },
             "pattern": {
              "fillmode": "overlay",
              "size": 10,
              "solidity": 0.2
             }
            },
            "type": "barpolar"
           }
          ],
          "carpet": [
           {
            "aaxis": {
             "endlinecolor": "#A2B1C6",
             "gridcolor": "#506784",
             "linecolor": "#506784",
             "minorgridcolor": "#506784",
             "startlinecolor": "#A2B1C6"
            },
            "baxis": {
             "endlinecolor": "#A2B1C6",
             "gridcolor": "#506784",
             "linecolor": "#506784",
             "minorgridcolor": "#506784",
             "startlinecolor": "#A2B1C6"
            },
            "type": "carpet"
           }
          ],
          "choropleth": [
           {
            "colorbar": {
             "outlinewidth": 0,
             "ticks": ""
            },
            "type": "choropleth"
           }
          ],
          "contour": [
           {
            "colorbar": {
             "outlinewidth": 0,
             "ticks": ""
            },
            "colorscale": [
             [
              0,
              "#0d0887"
             ],
             [
              0.1111111111111111,
              "#46039f"
             ],
             [
              0.2222222222222222,
              "#7201a8"
             ],
             [
              0.3333333333333333,
              "#9c179e"
             ],
             [
              0.4444444444444444,
              "#bd3786"
             ],
             [
              0.5555555555555556,
              "#d8576b"
             ],
             [
              0.6666666666666666,
              "#ed7953"
             ],
             [
              0.7777777777777778,
              "#fb9f3a"
             ],
             [
              0.8888888888888888,
              "#fdca26"
             ],
             [
              1,
              "#f0f921"
             ]
            ],
            "type": "contour"
           }
          ],
          "contourcarpet": [
           {
            "colorbar": {
             "outlinewidth": 0,
             "ticks": ""
            },
            "type": "contourcarpet"
           }
          ],
          "heatmap": [
           {
            "colorbar": {
             "outlinewidth": 0,
             "ticks": ""
            },
            "colorscale": [
             [
              0,
              "#0d0887"
             ],
             [
              0.1111111111111111,
              "#46039f"
             ],
             [
              0.2222222222222222,
              "#7201a8"
             ],
             [
              0.3333333333333333,
              "#9c179e"
             ],
             [
              0.4444444444444444,
              "#bd3786"
             ],
             [
              0.5555555555555556,
              "#d8576b"
             ],
             [
              0.6666666666666666,
              "#ed7953"
             ],
             [
              0.7777777777777778,
              "#fb9f3a"
             ],
             [
              0.8888888888888888,
              "#fdca26"
             ],
             [
              1,
              "#f0f921"
             ]
            ],
            "type": "heatmap"
           }
          ],
          "heatmapgl": [
           {
            "colorbar": {
             "outlinewidth": 0,
             "ticks": ""
            },
            "colorscale": [
             [
              0,
              "#0d0887"
             ],
             [
              0.1111111111111111,
              "#46039f"
             ],
             [
              0.2222222222222222,
              "#7201a8"
             ],
             [
              0.3333333333333333,
              "#9c179e"
             ],
             [
              0.4444444444444444,
              "#bd3786"
             ],
             [
              0.5555555555555556,
              "#d8576b"
             ],
             [
              0.6666666666666666,
              "#ed7953"
             ],
             [
              0.7777777777777778,
              "#fb9f3a"
             ],
             [
              0.8888888888888888,
              "#fdca26"
             ],
             [
              1,
              "#f0f921"
             ]
            ],
            "type": "heatmapgl"
           }
          ],
          "histogram": [
           {
            "marker": {
             "pattern": {
              "fillmode": "overlay",
              "size": 10,
              "solidity": 0.2
             }
            },
            "type": "histogram"
           }
          ],
          "histogram2d": [
           {
            "colorbar": {
             "outlinewidth": 0,
             "ticks": ""
            },
            "colorscale": [
             [
              0,
              "#0d0887"
             ],
             [
              0.1111111111111111,
              "#46039f"
             ],
             [
              0.2222222222222222,
              "#7201a8"
             ],
             [
              0.3333333333333333,
              "#9c179e"
             ],
             [
              0.4444444444444444,
              "#bd3786"
             ],
             [
              0.5555555555555556,
              "#d8576b"
             ],
             [
              0.6666666666666666,
              "#ed7953"
             ],
             [
              0.7777777777777778,
              "#fb9f3a"
             ],
             [
              0.8888888888888888,
              "#fdca26"
             ],
             [
              1,
              "#f0f921"
             ]
            ],
            "type": "histogram2d"
           }
          ],
          "histogram2dcontour": [
           {
            "colorbar": {
             "outlinewidth": 0,
             "ticks": ""
            },
            "colorscale": [
             [
              0,
              "#0d0887"
             ],
             [
              0.1111111111111111,
              "#46039f"
             ],
             [
              0.2222222222222222,
              "#7201a8"
             ],
             [
              0.3333333333333333,
              "#9c179e"
             ],
             [
              0.4444444444444444,
              "#bd3786"
             ],
             [
              0.5555555555555556,
              "#d8576b"
             ],
             [
              0.6666666666666666,
              "#ed7953"
             ],
             [
              0.7777777777777778,
              "#fb9f3a"
             ],
             [
              0.8888888888888888,
              "#fdca26"
             ],
             [
              1,
              "#f0f921"
             ]
            ],
            "type": "histogram2dcontour"
           }
          ],
          "mesh3d": [
           {
            "colorbar": {
             "outlinewidth": 0,
             "ticks": ""
            },
            "type": "mesh3d"
           }
          ],
          "parcoords": [
           {
            "line": {
             "colorbar": {
              "outlinewidth": 0,
              "ticks": ""
             }
            },
            "type": "parcoords"
           }
          ],
          "pie": [
           {
            "automargin": true,
            "type": "pie"
           }
          ],
          "scatter": [
           {
            "marker": {
             "line": {
              "color": "#283442"
             }
            },
            "type": "scatter"
           }
          ],
          "scatter3d": [
           {
            "line": {
             "colorbar": {
              "outlinewidth": 0,
              "ticks": ""
             }
            },
            "marker": {
             "colorbar": {
              "outlinewidth": 0,
              "ticks": ""
             }
            },
            "type": "scatter3d"
           }
          ],
          "scattercarpet": [
           {
            "marker": {
             "colorbar": {
              "outlinewidth": 0,
              "ticks": ""
             }
            },
            "type": "scattercarpet"
           }
          ],
          "scattergeo": [
           {
            "marker": {
             "colorbar": {
              "outlinewidth": 0,
              "ticks": ""
             }
            },
            "type": "scattergeo"
           }
          ],
          "scattergl": [
           {
            "marker": {
             "line": {
              "color": "#283442"
             }
            },
            "type": "scattergl"
           }
          ],
          "scattermapbox": [
           {
            "marker": {
             "colorbar": {
              "outlinewidth": 0,
              "ticks": ""
             }
            },
            "type": "scattermapbox"
           }
          ],
          "scatterpolar": [
           {
            "marker": {
             "colorbar": {
              "outlinewidth": 0,
              "ticks": ""
             }
            },
            "type": "scatterpolar"
           }
          ],
          "scatterpolargl": [
           {
            "marker": {
             "colorbar": {
              "outlinewidth": 0,
              "ticks": ""
             }
            },
            "type": "scatterpolargl"
           }
          ],
          "scatterternary": [
           {
            "marker": {
             "colorbar": {
              "outlinewidth": 0,
              "ticks": ""
             }
            },
            "type": "scatterternary"
           }
          ],
          "surface": [
           {
            "colorbar": {
             "outlinewidth": 0,
             "ticks": ""
            },
            "colorscale": [
             [
              0,
              "#0d0887"
             ],
             [
              0.1111111111111111,
              "#46039f"
             ],
             [
              0.2222222222222222,
              "#7201a8"
             ],
             [
              0.3333333333333333,
              "#9c179e"
             ],
             [
              0.4444444444444444,
              "#bd3786"
             ],
             [
              0.5555555555555556,
              "#d8576b"
             ],
             [
              0.6666666666666666,
              "#ed7953"
             ],
             [
              0.7777777777777778,
              "#fb9f3a"
             ],
             [
              0.8888888888888888,
              "#fdca26"
             ],
             [
              1,
              "#f0f921"
             ]
            ],
            "type": "surface"
           }
          ],
          "table": [
           {
            "cells": {
             "fill": {
              "color": "#506784"
             },
             "line": {
              "color": "rgb(17,17,17)"
             }
            },
            "header": {
             "fill": {
              "color": "#2a3f5f"
             },
             "line": {
              "color": "rgb(17,17,17)"
             }
            },
            "type": "table"
           }
          ]
         },
         "layout": {
          "annotationdefaults": {
           "arrowcolor": "#f2f5fa",
           "arrowhead": 0,
           "arrowwidth": 1
          },
          "autotypenumbers": "strict",
          "coloraxis": {
           "colorbar": {
            "outlinewidth": 0,
            "ticks": ""
           }
          },
          "colorscale": {
           "diverging": [
            [
             0,
             "#8e0152"
            ],
            [
             0.1,
             "#c51b7d"
            ],
            [
             0.2,
             "#de77ae"
            ],
            [
             0.3,
             "#f1b6da"
            ],
            [
             0.4,
             "#fde0ef"
            ],
            [
             0.5,
             "#f7f7f7"
            ],
            [
             0.6,
             "#e6f5d0"
            ],
            [
             0.7,
             "#b8e186"
            ],
            [
             0.8,
             "#7fbc41"
            ],
            [
             0.9,
             "#4d9221"
            ],
            [
             1,
             "#276419"
            ]
           ],
           "sequential": [
            [
             0,
             "#0d0887"
            ],
            [
             0.1111111111111111,
             "#46039f"
            ],
            [
             0.2222222222222222,
             "#7201a8"
            ],
            [
             0.3333333333333333,
             "#9c179e"
            ],
            [
             0.4444444444444444,
             "#bd3786"
            ],
            [
             0.5555555555555556,
             "#d8576b"
            ],
            [
             0.6666666666666666,
             "#ed7953"
            ],
            [
             0.7777777777777778,
             "#fb9f3a"
            ],
            [
             0.8888888888888888,
             "#fdca26"
            ],
            [
             1,
             "#f0f921"
            ]
           ],
           "sequentialminus": [
            [
             0,
             "#0d0887"
            ],
            [
             0.1111111111111111,
             "#46039f"
            ],
            [
             0.2222222222222222,
             "#7201a8"
            ],
            [
             0.3333333333333333,
             "#9c179e"
            ],
            [
             0.4444444444444444,
             "#bd3786"
            ],
            [
             0.5555555555555556,
             "#d8576b"
            ],
            [
             0.6666666666666666,
             "#ed7953"
            ],
            [
             0.7777777777777778,
             "#fb9f3a"
            ],
            [
             0.8888888888888888,
             "#fdca26"
            ],
            [
             1,
             "#f0f921"
            ]
           ]
          },
          "colorway": [
           "#636efa",
           "#EF553B",
           "#00cc96",
           "#ab63fa",
           "#FFA15A",
           "#19d3f3",
           "#FF6692",
           "#B6E880",
           "#FF97FF",
           "#FECB52"
          ],
          "font": {
           "color": "#f2f5fa"
          },
          "geo": {
           "bgcolor": "rgb(17,17,17)",
           "lakecolor": "rgb(17,17,17)",
           "landcolor": "rgb(17,17,17)",
           "showlakes": true,
           "showland": true,
           "subunitcolor": "#506784"
          },
          "hoverlabel": {
           "align": "left"
          },
          "hovermode": "closest",
          "mapbox": {
           "style": "dark"
          },
          "paper_bgcolor": "rgb(17,17,17)",
          "plot_bgcolor": "rgb(17,17,17)",
          "polar": {
           "angularaxis": {
            "gridcolor": "#506784",
            "linecolor": "#506784",
            "ticks": ""
           },
           "bgcolor": "rgb(17,17,17)",
           "radialaxis": {
            "gridcolor": "#506784",
            "linecolor": "#506784",
            "ticks": ""
           }
          },
          "scene": {
           "xaxis": {
            "backgroundcolor": "rgb(17,17,17)",
            "gridcolor": "#506784",
            "gridwidth": 2,
            "linecolor": "#506784",
            "showbackground": true,
            "ticks": "",
            "zerolinecolor": "#C8D4E3"
           },
           "yaxis": {
            "backgroundcolor": "rgb(17,17,17)",
            "gridcolor": "#506784",
            "gridwidth": 2,
            "linecolor": "#506784",
            "showbackground": true,
            "ticks": "",
            "zerolinecolor": "#C8D4E3"
           },
           "zaxis": {
            "backgroundcolor": "rgb(17,17,17)",
            "gridcolor": "#506784",
            "gridwidth": 2,
            "linecolor": "#506784",
            "showbackground": true,
            "ticks": "",
            "zerolinecolor": "#C8D4E3"
           }
          },
          "shapedefaults": {
           "line": {
            "color": "#f2f5fa"
           }
          },
          "sliderdefaults": {
           "bgcolor": "#C8D4E3",
           "bordercolor": "rgb(17,17,17)",
           "borderwidth": 1,
           "tickwidth": 0
          },
          "ternary": {
           "aaxis": {
            "gridcolor": "#506784",
            "linecolor": "#506784",
            "ticks": ""
           },
           "baxis": {
            "gridcolor": "#506784",
            "linecolor": "#506784",
            "ticks": ""
           },
           "bgcolor": "rgb(17,17,17)",
           "caxis": {
            "gridcolor": "#506784",
            "linecolor": "#506784",
            "ticks": ""
           }
          },
          "title": {
           "x": 0.05
          },
          "updatemenudefaults": {
           "bgcolor": "#506784",
           "borderwidth": 0
          },
          "xaxis": {
           "automargin": true,
           "gridcolor": "#283442",
           "linecolor": "#506784",
           "ticks": "",
           "title": {
            "standoff": 15
           },
           "zerolinecolor": "#283442",
           "zerolinewidth": 2
          },
          "yaxis": {
           "automargin": true,
           "gridcolor": "#283442",
           "linecolor": "#506784",
           "ticks": "",
           "title": {
            "standoff": 15
           },
           "zerolinecolor": "#283442",
           "zerolinewidth": 2
          }
         }
        }
       }
      },
      "text/html": [
       "<div>                            <div id=\"a52dd258-1714-48d8-bc50-a2227fbfc39c\" class=\"plotly-graph-div\" style=\"height:525px; width:100%;\"></div>            <script type=\"text/javascript\">                require([\"plotly\"], function(Plotly) {                    window.PLOTLYENV=window.PLOTLYENV || {};                                    if (document.getElementById(\"a52dd258-1714-48d8-bc50-a2227fbfc39c\")) {                    Plotly.newPlot(                        \"a52dd258-1714-48d8-bc50-a2227fbfc39c\",                        [{\"customdata\":[[80732932,989331,0.0,\"US\"],[43047594,522006,0.0,\"India\"],[30275219,662396,0.0,\"Brazil\"],[28006219,145424,0.0,\"France\"],[23658211,133308,0.0,\"Germany\"],[22033383,172498,0.0,\"United Kingdom\"],[17829009,366436,0.0,\"Russia\"],[16583220,21520,0.0,\"Korea, South\"],[15758002,161893,0.0,\"Italy\"],[15003696,98610,0.0,\"Turkey\"],[11736893,103104,0.0,\"Spain\"],[10489319,42975,0.0,\"Vietnam\"],[9060923,128344,0.0,\"Argentina\"],[8206055,22791,0.0,\"Netherlands\"],[7436434,29104,0.0,\"Japan\"],[7210788,140877,0.0,\"Iran\"],[6089998,139754,0.0,\"Colombia\"],[6041269,155937,0.0,\"Indonesia\"],[5985818,115838,0.0,\"Poland\"],[5729270,323973,0.0,\"Mexico\"],[5509592,6845,0.0,\"Australia\"],[5040518,112459,0.0,\"Ukraine\"],[4402234,35449,0.0,\"Malaysia\"],[4084299,27263,0.0,\"Thailand\"],[4064839,16439,0.0,\"Austria\"],[4040937,10647,0.0,\"Israel\"],[3998722,31262,0.0,\"Belgium\"],[3886876,40022,0.0,\"Czechia\"],[3745569,22088,0.0,\"Portugal\"],[3743582,100195,0.0,\"South Africa\"],[3683367,59982,0.0,\"Philippines\"],[3655753,38445,0.0,\"Canada\"],[3596855,13664,0.0,\"Switzerland\"],[3557139,212676,0.0,\"Peru\"],[3532649,57275,0.0,\"Chile\"],[3252248,28701,0.0,\"Greece\"],[3148266,6068,0.0,\"Denmark\"],[2884114,65366,0.0,\"Romania\"],[2509184,19773,0.0,\"Slovakia\"],[2495996,18605,0.0,\"Sweden\"],[2323508,25200,0.0,\"Iraq\"],[1997855,15936,0.0,\"Serbia\"],[1952412,29126,0.0,\"Bangladesh\"],[1884458,45971,0.0,\"Hungary\"],[1862513,13833,0.0,\"China\"],[1695432,14059,0.0,\"Jordan\"],[1653460,16794,0.0,\"Georgia\"],[1527486,30368,0.0,\"Pakistan\"],[1505568,6964,0.0,\"Ireland\"],[1420750,2783,0.0,\"Norway\"],[1394243,19013,0.0,\"Kazakhstan\"],[1167498,1317,0.0,\"Singapore\"],[1164467,16064,0.0,\"Morocco\"],[1151011,36816,0.0,\"Bulgaria\"],[1113663,15752,0.0,\"Croatia\"],[1100312,8522,0.0,\"Cuba\"],[1095811,10365,0.0,\"Lebanon\"],[1050181,9027,0.0,\"Lithuania\"],[1039532,28533,0.0,\"Tunisia\"],[998247,6564,0.0,\"Slovenia\"],[978684,11951,0.0,\"Nepal\"],[974961,6908,0.0,\"Belarus\"],[949583,3517,0.0,\"Finland\"],[920240,2177,0.0,\"Mongolia\"],[904029,21904,0.0,\"Bolivia\"],[895892,2302,0.0,\"United Arab Emirates\"],[895775,7197,0.0,\"Uruguay\"],[866925,35528,0.0,\"Ecuador\"],[854948,582,0.0,\"New Zealand\"],[844892,8357,0.0,\"Costa Rica\"],[838518,17445,0.0,\"Guatemala\"],[813415,5716,0.0,\"Latvia\"],[792391,9706,0.0,\"Azerbaijan\"],[769457,8179,0.0,\"Panama\"],[752848,9072,0.0,\"Saudi Arabia\"],[662945,16497,0.0,\"Sri Lanka\"],[656876,5657,0.0,\"West Bank and Gaza\"],[648682,18786,0.0,\"Paraguay\"],[631058,2555,0.0,\"Kuwait\"],[612658,19434,0.0,\"Burma\"],[578789,4375,0.0,\"Dominican Republic\"],[568335,2525,0.0,\"Estonia\"],[564176,1474,0.0,\"Bahrain\"],[522055,5703,0.0,\"Venezuela\"],[516587,11485,0.0,\"Moldova\"],[515645,24613,0.0,\"Egypt\"],[501862,6429,0.0,\"Libya\"],[470305,7509,0.0,\"Ethiopia\"],[465787,993,0.0,\"Cyprus\"],[422784,8622,0.0,\"Armenia\"],[422239,10892,0.0,\"Honduras\"],[388922,4257,0.0,\"Oman\"],[376526,15752,0.0,\"Bosnia and Herzegovina\"],[363754,677,0.0,\"Qatar\"],[323630,5649,0.0,\"Kenya\"],[318640,3973,0.0,\"Zambia\"],[308752,9263,0.0,\"North Macedonia\"],[305859,2688,0.0,\"Botswana\"],[274535,3496,0.0,\"Albania\"],[265746,6874,0.0,\"Algeria\"],[255670,3143,0.0,\"Nigeria\"],[247297,5464,0.0,\"Zimbabwe\"],[238321,1637,0.0,\"Uzbekistan\"],[234336,2709,0.0,\"Montenegro\"],[230991,1055,0.0,\"Luxembourg\"],[227880,3138,0.0,\"Kosovo\"],[225338,2201,0.0,\"Mozambique\"],[218229,990,0.0,\"Mauritius\"],[201460,727,0.0,\"Laos\"],[200982,2991,0.0,\"Kyrgyzstan\"],[183701,112,0.0,\"Iceland\"],[178883,298,0.0,\"Maldives\"],[178513,7680,0.0,\"Afghanistan\"],[164058,3597,0.0,\"Uganda\"],[162089,4126,0.0,\"El Salvador\"],[161114,1445,0.0,\"Ghana\"],[158112,4022,0.0,\"Namibia\"],[142514,3806,0.0,\"Trinidad and Tobago\"],[140364,218,0.0,\"Brunei\"],[136090,3055,0.0,\"Cambodia\"],[129769,1459,0.0,\"Rwanda\"],[129312,2932,0.0,\"Jamaica\"],[119780,1927,0.0,\"Cameroon\"],[99287,1900,0.0,\"Angola\"],[89310,677,0.0,\"Malta\"],[87023,1337,0.0,\"Congo (Kinshasa)\"],[85972,1965,0.0,\"Senegal\"],[85728,2632,0.0,\"Malawi\"],[81861,797,0.0,\"Cote d'Ivoire\"],[79302,1327,0.0,\"Suriname\"],[70107,1395,0.0,\"Eswatini\"],[65096,386,0.0,\"Barbados\"],[64513,862,0.0,\"Fiji\"],[64121,1391,0.0,\"Madagascar\"],[63380,1228,0.0,\"Guyana\"],[62079,4929,0.0,\"Sudan\"],[58683,982,0.0,\"Mauritania\"],[57385,676,0.0,\"Belize\"],[55993,401,0.0,\"Cabo Verde\"],[55782,3150,0.0,\"Syria\"],[54592,19,0.0,\"Bhutan\"],[47594,303,0.0,\"Gabon\"],[43663,649,0.0,\"Papua New Guinea\"],[41660,164,0.0,\"Seychelles\"],[40709,153,0.0,\"Andorra\"],[38812,38,0.0,\"Burundi\"],[37710,854,0.0,\"Taiwan*\"],[36969,273,0.0,\"Togo\"],[36540,441,0.0,\"Guinea\"],[33864,803,0.0,\"Tanzania\"],[33411,789,0.0,\"Bahamas\"],[32968,697,0.0,\"Lesotho\"],[30678,730,0.0,\"Mali\"],[30615,835,0.0,\"Haiti\"],[26952,163,0.0,\"Benin\"],[26485,1361,0.0,\"Somalia\"],[24079,385,0.0,\"Congo (Brazzaville)\"],[23111,367,0.0,\"Saint Lucia\"],[22853,130,0.0,\"Timor-Leste\"],[20865,383,0.0,\"Burkina Faso\"],[18491,232,0.0,\"Nicaragua\"],[17786,125,0.0,\"Tajikistan\"],[17410,138,0.0,\"South Sudan\"],[17005,84,0.0,\"Liechtenstein\"],[15981,114,0.0,\"San Marino\"],[15907,183,0.0,\"Equatorial Guinea\"],[15598,189,0.0,\"Djibouti\"],[14649,113,0.0,\"Central African Republic\"],[14165,219,0.0,\"Grenada\"],[12437,139,0.0,\"Solomon Islands\"],[11994,365,0.0,\"Gambia\"],[11988,63,0.0,\"Dominica\"],[11818,2148,0.0,\"Yemen\"],[11480,56,0.0,\"Monaco\"],[9733,103,0.0,\"Eritrea\"],[9106,11,0.0,\"Tonga\"],[8893,308,0.0,\"Niger\"],[8352,106,0.0,\"Saint Vincent and the Grenadines\"],[8182,171,0.0,\"Guinea-Bissau\"],[8103,160,0.0,\"Comoros\"],[7681,125,0.0,\"Sierra Leone\"],[7539,135,0.0,\"Antigua and Barbuda\"],[7432,294,0.0,\"Liberia\"],[7396,193,0.0,\"Chad\"],[6401,7,0.0,\"Vanuatu\"],[6309,13,0.0,\"Samoa\"],[5953,73,0.0,\"Sao Tome and Principe\"],[5561,43,0.0,\"Saint Kitts and Nevis\"],[4190,6,0.0,\"Palau\"],[3076,13,0.0,\"Kiribati\"],[865,0,0.0,\"Summer Olympics 2020\"],[712,13,0.0,\"Diamond Princess\"],[535,0,0.0,\"Winter Olympics 2022\"],[29,0,0.0,\"Holy See\"],[15,0,0.0,\"Marshall Islands\"],[11,0,0.0,\"Antarctica\"],[9,2,0.0,\"MS Zaandam\"],[1,0,0.0,\"Micronesia\"]],\"geo\":\"geo\",\"hovertemplate\":\"<b>%{hovertext}</b><br><br>Confirmed=%{marker.color:,}<br>Deaths=%{customdata[1]:,}<br>Recovered=%{customdata[2]:,}<extra></extra>\",\"hovertext\":[\"US\",\"India\",\"Brazil\",\"France\",\"Germany\",\"United Kingdom\",\"Russia\",\"Korea, South\",\"Italy\",\"Turkey\",\"Spain\",\"Vietnam\",\"Argentina\",\"Netherlands\",\"Japan\",\"Iran\",\"Colombia\",\"Indonesia\",\"Poland\",\"Mexico\",\"Australia\",\"Ukraine\",\"Malaysia\",\"Thailand\",\"Austria\",\"Israel\",\"Belgium\",\"Czechia\",\"Portugal\",\"South Africa\",\"Philippines\",\"Canada\",\"Switzerland\",\"Peru\",\"Chile\",\"Greece\",\"Denmark\",\"Romania\",\"Slovakia\",\"Sweden\",\"Iraq\",\"Serbia\",\"Bangladesh\",\"Hungary\",\"China\",\"Jordan\",\"Georgia\",\"Pakistan\",\"Ireland\",\"Norway\",\"Kazakhstan\",\"Singapore\",\"Morocco\",\"Bulgaria\",\"Croatia\",\"Cuba\",\"Lebanon\",\"Lithuania\",\"Tunisia\",\"Slovenia\",\"Nepal\",\"Belarus\",\"Finland\",\"Mongolia\",\"Bolivia\",\"United Arab Emirates\",\"Uruguay\",\"Ecuador\",\"New Zealand\",\"Costa Rica\",\"Guatemala\",\"Latvia\",\"Azerbaijan\",\"Panama\",\"Saudi Arabia\",\"Sri Lanka\",\"West Bank and Gaza\",\"Paraguay\",\"Kuwait\",\"Burma\",\"Dominican Republic\",\"Estonia\",\"Bahrain\",\"Venezuela\",\"Moldova\",\"Egypt\",\"Libya\",\"Ethiopia\",\"Cyprus\",\"Armenia\",\"Honduras\",\"Oman\",\"Bosnia and Herzegovina\",\"Qatar\",\"Kenya\",\"Zambia\",\"North Macedonia\",\"Botswana\",\"Albania\",\"Algeria\",\"Nigeria\",\"Zimbabwe\",\"Uzbekistan\",\"Montenegro\",\"Luxembourg\",\"Kosovo\",\"Mozambique\",\"Mauritius\",\"Laos\",\"Kyrgyzstan\",\"Iceland\",\"Maldives\",\"Afghanistan\",\"Uganda\",\"El Salvador\",\"Ghana\",\"Namibia\",\"Trinidad and Tobago\",\"Brunei\",\"Cambodia\",\"Rwanda\",\"Jamaica\",\"Cameroon\",\"Angola\",\"Malta\",\"Congo (Kinshasa)\",\"Senegal\",\"Malawi\",\"Cote d'Ivoire\",\"Suriname\",\"Eswatini\",\"Barbados\",\"Fiji\",\"Madagascar\",\"Guyana\",\"Sudan\",\"Mauritania\",\"Belize\",\"Cabo Verde\",\"Syria\",\"Bhutan\",\"Gabon\",\"Papua New Guinea\",\"Seychelles\",\"Andorra\",\"Burundi\",\"Taiwan*\",\"Togo\",\"Guinea\",\"Tanzania\",\"Bahamas\",\"Lesotho\",\"Mali\",\"Haiti\",\"Benin\",\"Somalia\",\"Congo (Brazzaville)\",\"Saint Lucia\",\"Timor-Leste\",\"Burkina Faso\",\"Nicaragua\",\"Tajikistan\",\"South Sudan\",\"Liechtenstein\",\"San Marino\",\"Equatorial Guinea\",\"Djibouti\",\"Central African Republic\",\"Grenada\",\"Solomon Islands\",\"Gambia\",\"Dominica\",\"Yemen\",\"Monaco\",\"Eritrea\",\"Tonga\",\"Niger\",\"Saint Vincent and the Grenadines\",\"Guinea-Bissau\",\"Comoros\",\"Sierra Leone\",\"Antigua and Barbuda\",\"Liberia\",\"Chad\",\"Vanuatu\",\"Samoa\",\"Sao Tome and Principe\",\"Saint Kitts and Nevis\",\"Palau\",\"Kiribati\",\"Summer Olympics 2020\",\"Diamond Princess\",\"Winter Olympics 2022\",\"Holy See\",\"Marshall Islands\",\"Antarctica\",\"MS Zaandam\",\"Micronesia\"],\"legendgroup\":\"\",\"locationmode\":\"country names\",\"locations\":[\"US\",\"India\",\"Brazil\",\"France\",\"Germany\",\"United Kingdom\",\"Russia\",\"Korea, South\",\"Italy\",\"Turkey\",\"Spain\",\"Vietnam\",\"Argentina\",\"Netherlands\",\"Japan\",\"Iran\",\"Colombia\",\"Indonesia\",\"Poland\",\"Mexico\",\"Australia\",\"Ukraine\",\"Malaysia\",\"Thailand\",\"Austria\",\"Israel\",\"Belgium\",\"Czechia\",\"Portugal\",\"South Africa\",\"Philippines\",\"Canada\",\"Switzerland\",\"Peru\",\"Chile\",\"Greece\",\"Denmark\",\"Romania\",\"Slovakia\",\"Sweden\",\"Iraq\",\"Serbia\",\"Bangladesh\",\"Hungary\",\"China\",\"Jordan\",\"Georgia\",\"Pakistan\",\"Ireland\",\"Norway\",\"Kazakhstan\",\"Singapore\",\"Morocco\",\"Bulgaria\",\"Croatia\",\"Cuba\",\"Lebanon\",\"Lithuania\",\"Tunisia\",\"Slovenia\",\"Nepal\",\"Belarus\",\"Finland\",\"Mongolia\",\"Bolivia\",\"United Arab Emirates\",\"Uruguay\",\"Ecuador\",\"New Zealand\",\"Costa Rica\",\"Guatemala\",\"Latvia\",\"Azerbaijan\",\"Panama\",\"Saudi Arabia\",\"Sri Lanka\",\"West Bank and Gaza\",\"Paraguay\",\"Kuwait\",\"Burma\",\"Dominican Republic\",\"Estonia\",\"Bahrain\",\"Venezuela\",\"Moldova\",\"Egypt\",\"Libya\",\"Ethiopia\",\"Cyprus\",\"Armenia\",\"Honduras\",\"Oman\",\"Bosnia and Herzegovina\",\"Qatar\",\"Kenya\",\"Zambia\",\"North Macedonia\",\"Botswana\",\"Albania\",\"Algeria\",\"Nigeria\",\"Zimbabwe\",\"Uzbekistan\",\"Montenegro\",\"Luxembourg\",\"Kosovo\",\"Mozambique\",\"Mauritius\",\"Laos\",\"Kyrgyzstan\",\"Iceland\",\"Maldives\",\"Afghanistan\",\"Uganda\",\"El Salvador\",\"Ghana\",\"Namibia\",\"Trinidad and Tobago\",\"Brunei\",\"Cambodia\",\"Rwanda\",\"Jamaica\",\"Cameroon\",\"Angola\",\"Malta\",\"Congo (Kinshasa)\",\"Senegal\",\"Malawi\",\"Cote d'Ivoire\",\"Suriname\",\"Eswatini\",\"Barbados\",\"Fiji\",\"Madagascar\",\"Guyana\",\"Sudan\",\"Mauritania\",\"Belize\",\"Cabo Verde\",\"Syria\",\"Bhutan\",\"Gabon\",\"Papua New Guinea\",\"Seychelles\",\"Andorra\",\"Burundi\",\"Taiwan*\",\"Togo\",\"Guinea\",\"Tanzania\",\"Bahamas\",\"Lesotho\",\"Mali\",\"Haiti\",\"Benin\",\"Somalia\",\"Congo (Brazzaville)\",\"Saint Lucia\",\"Timor-Leste\",\"Burkina Faso\",\"Nicaragua\",\"Tajikistan\",\"South Sudan\",\"Liechtenstein\",\"San Marino\",\"Equatorial Guinea\",\"Djibouti\",\"Central African Republic\",\"Grenada\",\"Solomon Islands\",\"Gambia\",\"Dominica\",\"Yemen\",\"Monaco\",\"Eritrea\",\"Tonga\",\"Niger\",\"Saint Vincent and the Grenadines\",\"Guinea-Bissau\",\"Comoros\",\"Sierra Leone\",\"Antigua and Barbuda\",\"Liberia\",\"Chad\",\"Vanuatu\",\"Samoa\",\"Sao Tome and Principe\",\"Saint Kitts and Nevis\",\"Palau\",\"Kiribati\",\"Summer Olympics 2020\",\"Diamond Princess\",\"Winter Olympics 2022\",\"Holy See\",\"Marshall Islands\",\"Antarctica\",\"MS Zaandam\",\"Micronesia\"],\"marker\":{\"color\":[80732932,43047594,30275219,28006219,23658211,22033383,17829009,16583220,15758002,15003696,11736893,10489319,9060923,8206055,7436434,7210788,6089998,6041269,5985818,5729270,5509592,5040518,4402234,4084299,4064839,4040937,3998722,3886876,3745569,3743582,3683367,3655753,3596855,3557139,3532649,3252248,3148266,2884114,2509184,2495996,2323508,1997855,1952412,1884458,1862513,1695432,1653460,1527486,1505568,1420750,1394243,1167498,1164467,1151011,1113663,1100312,1095811,1050181,1039532,998247,978684,974961,949583,920240,904029,895892,895775,866925,854948,844892,838518,813415,792391,769457,752848,662945,656876,648682,631058,612658,578789,568335,564176,522055,516587,515645,501862,470305,465787,422784,422239,388922,376526,363754,323630,318640,308752,305859,274535,265746,255670,247297,238321,234336,230991,227880,225338,218229,201460,200982,183701,178883,178513,164058,162089,161114,158112,142514,140364,136090,129769,129312,119780,99287,89310,87023,85972,85728,81861,79302,70107,65096,64513,64121,63380,62079,58683,57385,55993,55782,54592,47594,43663,41660,40709,38812,37710,36969,36540,33864,33411,32968,30678,30615,26952,26485,24079,23111,22853,20865,18491,17786,17410,17005,15981,15907,15598,14649,14165,12437,11994,11988,11818,11480,9733,9106,8893,8352,8182,8103,7681,7539,7432,7396,6401,6309,5953,5561,4190,3076,865,712,535,29,15,11,9,1],\"coloraxis\":\"coloraxis\",\"size\":[80732932,43047594,30275219,28006219,23658211,22033383,17829009,16583220,15758002,15003696,11736893,10489319,9060923,8206055,7436434,7210788,6089998,6041269,5985818,5729270,5509592,5040518,4402234,4084299,4064839,4040937,3998722,3886876,3745569,3743582,3683367,3655753,3596855,3557139,3532649,3252248,3148266,2884114,2509184,2495996,2323508,1997855,1952412,1884458,1862513,1695432,1653460,1527486,1505568,1420750,1394243,1167498,1164467,1151011,1113663,1100312,1095811,1050181,1039532,998247,978684,974961,949583,920240,904029,895892,895775,866925,854948,844892,838518,813415,792391,769457,752848,662945,656876,648682,631058,612658,578789,568335,564176,522055,516587,515645,501862,470305,465787,422784,422239,388922,376526,363754,323630,318640,308752,305859,274535,265746,255670,247297,238321,234336,230991,227880,225338,218229,201460,200982,183701,178883,178513,164058,162089,161114,158112,142514,140364,136090,129769,129312,119780,99287,89310,87023,85972,85728,81861,79302,70107,65096,64513,64121,63380,62079,58683,57385,55993,55782,54592,47594,43663,41660,40709,38812,37710,36969,36540,33864,33411,32968,30678,30615,26952,26485,24079,23111,22853,20865,18491,17786,17410,17005,15981,15907,15598,14649,14165,12437,11994,11988,11818,11480,9733,9106,8893,8352,8182,8103,7681,7539,7432,7396,6401,6309,5953,5561,4190,3076,865,712,535,29,15,11,9,1],\"sizemode\":\"area\",\"sizeref\":50458.0825,\"symbol\":\"circle\"},\"mode\":\"markers\",\"name\":\"\",\"showlegend\":false,\"type\":\"scattergeo\"}],                        {\"template\":{\"data\":{\"barpolar\":[{\"marker\":{\"line\":{\"color\":\"rgb(17,17,17)\",\"width\":0.5},\"pattern\":{\"fillmode\":\"overlay\",\"size\":10,\"solidity\":0.2}},\"type\":\"barpolar\"}],\"bar\":[{\"error_x\":{\"color\":\"#f2f5fa\"},\"error_y\":{\"color\":\"#f2f5fa\"},\"marker\":{\"line\":{\"color\":\"rgb(17,17,17)\",\"width\":0.5},\"pattern\":{\"fillmode\":\"overlay\",\"size\":10,\"solidity\":0.2}},\"type\":\"bar\"}],\"carpet\":[{\"aaxis\":{\"endlinecolor\":\"#A2B1C6\",\"gridcolor\":\"#506784\",\"linecolor\":\"#506784\",\"minorgridcolor\":\"#506784\",\"startlinecolor\":\"#A2B1C6\"},\"baxis\":{\"endlinecolor\":\"#A2B1C6\",\"gridcolor\":\"#506784\",\"linecolor\":\"#506784\",\"minorgridcolor\":\"#506784\",\"startlinecolor\":\"#A2B1C6\"},\"type\":\"carpet\"}],\"choropleth\":[{\"colorbar\":{\"outlinewidth\":0,\"ticks\":\"\"},\"type\":\"choropleth\"}],\"contourcarpet\":[{\"colorbar\":{\"outlinewidth\":0,\"ticks\":\"\"},\"type\":\"contourcarpet\"}],\"contour\":[{\"colorbar\":{\"outlinewidth\":0,\"ticks\":\"\"},\"colorscale\":[[0.0,\"#0d0887\"],[0.1111111111111111,\"#46039f\"],[0.2222222222222222,\"#7201a8\"],[0.3333333333333333,\"#9c179e\"],[0.4444444444444444,\"#bd3786\"],[0.5555555555555556,\"#d8576b\"],[0.6666666666666666,\"#ed7953\"],[0.7777777777777778,\"#fb9f3a\"],[0.8888888888888888,\"#fdca26\"],[1.0,\"#f0f921\"]],\"type\":\"contour\"}],\"heatmapgl\":[{\"colorbar\":{\"outlinewidth\":0,\"ticks\":\"\"},\"colorscale\":[[0.0,\"#0d0887\"],[0.1111111111111111,\"#46039f\"],[0.2222222222222222,\"#7201a8\"],[0.3333333333333333,\"#9c179e\"],[0.4444444444444444,\"#bd3786\"],[0.5555555555555556,\"#d8576b\"],[0.6666666666666666,\"#ed7953\"],[0.7777777777777778,\"#fb9f3a\"],[0.8888888888888888,\"#fdca26\"],[1.0,\"#f0f921\"]],\"type\":\"heatmapgl\"}],\"heatmap\":[{\"colorbar\":{\"outlinewidth\":0,\"ticks\":\"\"},\"colorscale\":[[0.0,\"#0d0887\"],[0.1111111111111111,\"#46039f\"],[0.2222222222222222,\"#7201a8\"],[0.3333333333333333,\"#9c179e\"],[0.4444444444444444,\"#bd3786\"],[0.5555555555555556,\"#d8576b\"],[0.6666666666666666,\"#ed7953\"],[0.7777777777777778,\"#fb9f3a\"],[0.8888888888888888,\"#fdca26\"],[1.0,\"#f0f921\"]],\"type\":\"heatmap\"}],\"histogram2dcontour\":[{\"colorbar\":{\"outlinewidth\":0,\"ticks\":\"\"},\"colorscale\":[[0.0,\"#0d0887\"],[0.1111111111111111,\"#46039f\"],[0.2222222222222222,\"#7201a8\"],[0.3333333333333333,\"#9c179e\"],[0.4444444444444444,\"#bd3786\"],[0.5555555555555556,\"#d8576b\"],[0.6666666666666666,\"#ed7953\"],[0.7777777777777778,\"#fb9f3a\"],[0.8888888888888888,\"#fdca26\"],[1.0,\"#f0f921\"]],\"type\":\"histogram2dcontour\"}],\"histogram2d\":[{\"colorbar\":{\"outlinewidth\":0,\"ticks\":\"\"},\"colorscale\":[[0.0,\"#0d0887\"],[0.1111111111111111,\"#46039f\"],[0.2222222222222222,\"#7201a8\"],[0.3333333333333333,\"#9c179e\"],[0.4444444444444444,\"#bd3786\"],[0.5555555555555556,\"#d8576b\"],[0.6666666666666666,\"#ed7953\"],[0.7777777777777778,\"#fb9f3a\"],[0.8888888888888888,\"#fdca26\"],[1.0,\"#f0f921\"]],\"type\":\"histogram2d\"}],\"histogram\":[{\"marker\":{\"pattern\":{\"fillmode\":\"overlay\",\"size\":10,\"solidity\":0.2}},\"type\":\"histogram\"}],\"mesh3d\":[{\"colorbar\":{\"outlinewidth\":0,\"ticks\":\"\"},\"type\":\"mesh3d\"}],\"parcoords\":[{\"line\":{\"colorbar\":{\"outlinewidth\":0,\"ticks\":\"\"}},\"type\":\"parcoords\"}],\"pie\":[{\"automargin\":true,\"type\":\"pie\"}],\"scatter3d\":[{\"line\":{\"colorbar\":{\"outlinewidth\":0,\"ticks\":\"\"}},\"marker\":{\"colorbar\":{\"outlinewidth\":0,\"ticks\":\"\"}},\"type\":\"scatter3d\"}],\"scattercarpet\":[{\"marker\":{\"colorbar\":{\"outlinewidth\":0,\"ticks\":\"\"}},\"type\":\"scattercarpet\"}],\"scattergeo\":[{\"marker\":{\"colorbar\":{\"outlinewidth\":0,\"ticks\":\"\"}},\"type\":\"scattergeo\"}],\"scattergl\":[{\"marker\":{\"line\":{\"color\":\"#283442\"}},\"type\":\"scattergl\"}],\"scattermapbox\":[{\"marker\":{\"colorbar\":{\"outlinewidth\":0,\"ticks\":\"\"}},\"type\":\"scattermapbox\"}],\"scatterpolargl\":[{\"marker\":{\"colorbar\":{\"outlinewidth\":0,\"ticks\":\"\"}},\"type\":\"scatterpolargl\"}],\"scatterpolar\":[{\"marker\":{\"colorbar\":{\"outlinewidth\":0,\"ticks\":\"\"}},\"type\":\"scatterpolar\"}],\"scatter\":[{\"marker\":{\"line\":{\"color\":\"#283442\"}},\"type\":\"scatter\"}],\"scatterternary\":[{\"marker\":{\"colorbar\":{\"outlinewidth\":0,\"ticks\":\"\"}},\"type\":\"scatterternary\"}],\"surface\":[{\"colorbar\":{\"outlinewidth\":0,\"ticks\":\"\"},\"colorscale\":[[0.0,\"#0d0887\"],[0.1111111111111111,\"#46039f\"],[0.2222222222222222,\"#7201a8\"],[0.3333333333333333,\"#9c179e\"],[0.4444444444444444,\"#bd3786\"],[0.5555555555555556,\"#d8576b\"],[0.6666666666666666,\"#ed7953\"],[0.7777777777777778,\"#fb9f3a\"],[0.8888888888888888,\"#fdca26\"],[1.0,\"#f0f921\"]],\"type\":\"surface\"}],\"table\":[{\"cells\":{\"fill\":{\"color\":\"#506784\"},\"line\":{\"color\":\"rgb(17,17,17)\"}},\"header\":{\"fill\":{\"color\":\"#2a3f5f\"},\"line\":{\"color\":\"rgb(17,17,17)\"}},\"type\":\"table\"}]},\"layout\":{\"annotationdefaults\":{\"arrowcolor\":\"#f2f5fa\",\"arrowhead\":0,\"arrowwidth\":1},\"autotypenumbers\":\"strict\",\"coloraxis\":{\"colorbar\":{\"outlinewidth\":0,\"ticks\":\"\"}},\"colorscale\":{\"diverging\":[[0,\"#8e0152\"],[0.1,\"#c51b7d\"],[0.2,\"#de77ae\"],[0.3,\"#f1b6da\"],[0.4,\"#fde0ef\"],[0.5,\"#f7f7f7\"],[0.6,\"#e6f5d0\"],[0.7,\"#b8e186\"],[0.8,\"#7fbc41\"],[0.9,\"#4d9221\"],[1,\"#276419\"]],\"sequential\":[[0.0,\"#0d0887\"],[0.1111111111111111,\"#46039f\"],[0.2222222222222222,\"#7201a8\"],[0.3333333333333333,\"#9c179e\"],[0.4444444444444444,\"#bd3786\"],[0.5555555555555556,\"#d8576b\"],[0.6666666666666666,\"#ed7953\"],[0.7777777777777778,\"#fb9f3a\"],[0.8888888888888888,\"#fdca26\"],[1.0,\"#f0f921\"]],\"sequentialminus\":[[0.0,\"#0d0887\"],[0.1111111111111111,\"#46039f\"],[0.2222222222222222,\"#7201a8\"],[0.3333333333333333,\"#9c179e\"],[0.4444444444444444,\"#bd3786\"],[0.5555555555555556,\"#d8576b\"],[0.6666666666666666,\"#ed7953\"],[0.7777777777777778,\"#fb9f3a\"],[0.8888888888888888,\"#fdca26\"],[1.0,\"#f0f921\"]]},\"colorway\":[\"#636efa\",\"#EF553B\",\"#00cc96\",\"#ab63fa\",\"#FFA15A\",\"#19d3f3\",\"#FF6692\",\"#B6E880\",\"#FF97FF\",\"#FECB52\"],\"font\":{\"color\":\"#f2f5fa\"},\"geo\":{\"bgcolor\":\"rgb(17,17,17)\",\"lakecolor\":\"rgb(17,17,17)\",\"landcolor\":\"rgb(17,17,17)\",\"showlakes\":true,\"showland\":true,\"subunitcolor\":\"#506784\"},\"hoverlabel\":{\"align\":\"left\"},\"hovermode\":\"closest\",\"mapbox\":{\"style\":\"dark\"},\"paper_bgcolor\":\"rgb(17,17,17)\",\"plot_bgcolor\":\"rgb(17,17,17)\",\"polar\":{\"angularaxis\":{\"gridcolor\":\"#506784\",\"linecolor\":\"#506784\",\"ticks\":\"\"},\"bgcolor\":\"rgb(17,17,17)\",\"radialaxis\":{\"gridcolor\":\"#506784\",\"linecolor\":\"#506784\",\"ticks\":\"\"}},\"scene\":{\"xaxis\":{\"backgroundcolor\":\"rgb(17,17,17)\",\"gridcolor\":\"#506784\",\"gridwidth\":2,\"linecolor\":\"#506784\",\"showbackground\":true,\"ticks\":\"\",\"zerolinecolor\":\"#C8D4E3\"},\"yaxis\":{\"backgroundcolor\":\"rgb(17,17,17)\",\"gridcolor\":\"#506784\",\"gridwidth\":2,\"linecolor\":\"#506784\",\"showbackground\":true,\"ticks\":\"\",\"zerolinecolor\":\"#C8D4E3\"},\"zaxis\":{\"backgroundcolor\":\"rgb(17,17,17)\",\"gridcolor\":\"#506784\",\"gridwidth\":2,\"linecolor\":\"#506784\",\"showbackground\":true,\"ticks\":\"\",\"zerolinecolor\":\"#C8D4E3\"}},\"shapedefaults\":{\"line\":{\"color\":\"#f2f5fa\"}},\"sliderdefaults\":{\"bgcolor\":\"#C8D4E3\",\"bordercolor\":\"rgb(17,17,17)\",\"borderwidth\":1,\"tickwidth\":0},\"ternary\":{\"aaxis\":{\"gridcolor\":\"#506784\",\"linecolor\":\"#506784\",\"ticks\":\"\"},\"baxis\":{\"gridcolor\":\"#506784\",\"linecolor\":\"#506784\",\"ticks\":\"\"},\"bgcolor\":\"rgb(17,17,17)\",\"caxis\":{\"gridcolor\":\"#506784\",\"linecolor\":\"#506784\",\"ticks\":\"\"}},\"title\":{\"x\":0.05},\"updatemenudefaults\":{\"bgcolor\":\"#506784\",\"borderwidth\":0},\"xaxis\":{\"automargin\":true,\"gridcolor\":\"#283442\",\"linecolor\":\"#506784\",\"ticks\":\"\",\"title\":{\"standoff\":15},\"zerolinecolor\":\"#283442\",\"zerolinewidth\":2},\"yaxis\":{\"automargin\":true,\"gridcolor\":\"#283442\",\"linecolor\":\"#506784\",\"ticks\":\"\",\"title\":{\"standoff\":15},\"zerolinecolor\":\"#283442\",\"zerolinewidth\":2}}},\"geo\":{\"domain\":{\"x\":[0.0,1.0],\"y\":[0.0,1.0]},\"projection\":{\"type\":\"natural earth\"},\"center\":{}},\"coloraxis\":{\"colorbar\":{\"title\":{\"text\":\"Confirmed\"}},\"colorscale\":[[0.0,\"#0d0887\"],[0.1111111111111111,\"#46039f\"],[0.2222222222222222,\"#7201a8\"],[0.3333333333333333,\"#9c179e\"],[0.4444444444444444,\"#bd3786\"],[0.5555555555555556,\"#d8576b\"],[0.6666666666666666,\"#ed7953\"],[0.7777777777777778,\"#fb9f3a\"],[0.8888888888888888,\"#fdca26\"],[1.0,\"#f0f921\"]]},\"legend\":{\"tracegroupgap\":0,\"itemsizing\":\"constant\"},\"margin\":{\"t\":60}},                        {\"responsive\": true}                    ).then(function(){\n",
       "                            \n",
       "var gd = document.getElementById('a52dd258-1714-48d8-bc50-a2227fbfc39c');\n",
       "var x = new MutationObserver(function (mutations, observer) {{\n",
       "        var display = window.getComputedStyle(gd).display;\n",
       "        if (!display || display === 'none') {{\n",
       "            console.log([gd, 'removed!']);\n",
       "            Plotly.purge(gd);\n",
       "            observer.disconnect();\n",
       "        }}\n",
       "}});\n",
       "\n",
       "// Listen for the removal of the full notebook cells\n",
       "var notebookContainer = gd.closest('#notebook-container');\n",
       "if (notebookContainer) {{\n",
       "    x.observe(notebookContainer, {childList: true});\n",
       "}}\n",
       "\n",
       "// Listen for the clearing of the current output cell\n",
       "var outputEl = gd.closest('.output');\n",
       "if (outputEl) {{\n",
       "    x.observe(outputEl, {childList: true});\n",
       "}}\n",
       "\n",
       "                        })                };                });            </script>        </div>"
      ]
     },
     "metadata": {},
     "output_type": "display_data"
    }
   ],
   "source": [
    "import plotly.express as px\n",
    "from data import countries_df\n",
    "\n",
    "fig = px.scatter_geo(countries_df,\n",
    "                     locations=\"Country_Region\",\n",
    "                     locationmode=\"country names\",\n",
    "                     color=\"Confirmed\",\n",
    "                     hover_name=\"Country_Region\",\n",
    "                     hover_data={\n",
    "                         \"Confirmed\": \":,\",\n",
    "                         \"Deaths\": \":,\",\n",
    "                         \"Recovered\": \":,\",\n",
    "                         \"Country_Region\": False\n",
    "                     },\n",
    "                     size=\"Confirmed\",\n",
    "                     size_max=40,\n",
    "                     projection=\"natural earth\",\n",
    "                     template=\"plotly_dark\"\n",
    "                    )\n",
    "fig.show()"
   ]
  }
 ],
 "metadata": {
  "kernelspec": {
   "display_name": "Python 3 (ipykernel)",
   "language": "python",
   "name": "python3"
  },
  "language_info": {
   "codemirror_mode": {
    "name": "ipython",
    "version": 3
   },
   "file_extension": ".py",
   "mimetype": "text/x-python",
   "name": "python",
   "nbconvert_exporter": "python",
   "pygments_lexer": "ipython3",
   "version": "3.9.7"
  }
 },
 "nbformat": 4,
 "nbformat_minor": 5
}
