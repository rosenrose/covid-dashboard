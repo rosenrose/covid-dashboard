{
 "cells": [
  {
   "cell_type": "code",
   "execution_count": 3,
   "id": "4e954dd0",
   "metadata": {},
   "outputs": [
    {
     "ename": "NameError",
     "evalue": "name 'fianl_df' is not defined",
     "output_type": "error",
     "traceback": [
      "\u001b[1;31m---------------------------------------------------------------------------\u001b[0m",
      "\u001b[1;31mNameError\u001b[0m                                 Traceback (most recent call last)",
      "Input \u001b[1;32mIn [3]\u001b[0m, in \u001b[0;36m<cell line: 22>\u001b[1;34m()\u001b[0m\n\u001b[0;32m     19\u001b[0m             final_df \u001b[38;5;241m=\u001b[39m fianl_df\u001b[38;5;241m.\u001b[39mmerge(condition_df)\n\u001b[0;32m     20\u001b[0m     \u001b[38;5;28;01mreturn\u001b[39;00m final_df\n\u001b[1;32m---> 22\u001b[0m df \u001b[38;5;241m=\u001b[39m \u001b[43mmake_country_df\u001b[49m\u001b[43m(\u001b[49m\u001b[38;5;124;43m\"\u001b[39;49m\u001b[38;5;124;43mKorea, South\u001b[39;49m\u001b[38;5;124;43m\"\u001b[39;49m\u001b[43m)\u001b[49m\n\u001b[0;32m     23\u001b[0m df\n",
      "Input \u001b[1;32mIn [3]\u001b[0m, in \u001b[0;36mmake_country_df\u001b[1;34m(country)\u001b[0m\n\u001b[0;32m     17\u001b[0m         final_df \u001b[38;5;241m=\u001b[39m condition_df\n\u001b[0;32m     18\u001b[0m     \u001b[38;5;28;01melse\u001b[39;00m:\n\u001b[1;32m---> 19\u001b[0m         final_df \u001b[38;5;241m=\u001b[39m \u001b[43mfianl_df\u001b[49m\u001b[38;5;241m.\u001b[39mmerge(condition_df)\n\u001b[0;32m     20\u001b[0m \u001b[38;5;28;01mreturn\u001b[39;00m final_df\n",
      "\u001b[1;31mNameError\u001b[0m: name 'fianl_df' is not defined"
     ]
    }
   ],
   "source": [
    "import pandas as pd\n",
    "\n",
    "conditions = [\"confirmed\", \"deaths\", \"recovered\"]\n",
    "\n",
    "def make_country_df(country):\n",
    "    def make_condition_df(condition):\n",
    "        df = pd.read_csv(f\"data/time_series_{condition}.csv\")\n",
    "        df = df.loc[df[\"Country/Region\"] == country]\n",
    "        df = df.drop(columns=[\"Province/State\", \"Country/Region\", \"Lat\", \"Long\"]).sum()\n",
    "        df = df.reset_index(name=condition).rename(columns={\"index\": \"date\"})\n",
    "        return df\n",
    "\n",
    "    final_df = None\n",
    "    for condition in conditions:\n",
    "        condition_df = make_condition_df(condition)\n",
    "        if final_df is None:\n",
    "            final_df = condition_df\n",
    "        else:\n",
    "            final_df = final_df.merge(condition_df)\n",
    "    return final_df\n",
    "\n",
    "df = make_country_df(\"Korea, South\")\n",
    "df"
   ]
  }
 ],
 "metadata": {
  "kernelspec": {
   "display_name": "Python 3 (ipykernel)",
   "language": "python",
   "name": "python3"
  },
  "language_info": {
   "codemirror_mode": {
    "name": "ipython",
    "version": 3
   },
   "file_extension": ".py",
   "mimetype": "text/x-python",
   "name": "python",
   "nbconvert_exporter": "python",
   "pygments_lexer": "ipython3",
   "version": "3.10.4"
  }
 },
 "nbformat": 4,
 "nbformat_minor": 5
}
